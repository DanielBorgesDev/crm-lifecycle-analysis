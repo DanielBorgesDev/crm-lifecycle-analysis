{
 "cells": [
  {
   "cell_type": "markdown",
   "id": "c3731862",
   "metadata": {},
   "source": [
    "# Exploratory Data Analysis — CRM Lifecycle Project"
   ]
  },
  {
   "cell_type": "code",
   "execution_count": 5,
   "id": "2dc31118",
   "metadata": {},
   "outputs": [],
   "source": [
    "import pandas as pd\n",
    "import matplotlib.pyplot as plt\n",
    "import seaborn as sns\n",
    "import numpy as np\n",
    "sns.set(style='whitegrid')"
   ]
  },
  {
   "cell_type": "markdown",
   "id": "0b92f6de",
   "metadata": {},
   "source": [
    "## Load the datasets"
   ]
  },
  {
   "cell_type": "code",
   "execution_count": 6,
   "id": "1f8a3421",
   "metadata": {},
   "outputs": [],
   "source": [
    "clientes = pd.read_csv('../data/clientes.csv')\n",
    "transacoes = pd.read_csv('../data/transacoes.csv')\n",
    "campanhas = pd.read_csv('../data/campanhas.csv')\n",
    "\n",
    "# Convert date columns\n",
    "clientes['data_entrada'] = pd.to_datetime(clientes['data_entrada'])\n",
    "transacoes['data'] = pd.to_datetime(transacoes['data'])\n",
    "campanhas['data_envio'] = pd.to_datetime(campanhas['data_envio'])"
   ]
  },
  {
   "cell_type": "markdown",
   "id": "f16bed4c",
   "metadata": {},
   "source": [
    "##  Basic overview"
   ]
  },
  {
   "cell_type": "code",
   "execution_count": 7,
   "id": "627592b3",
   "metadata": {},
   "outputs": [
    {
     "name": "stdout",
     "output_type": "stream",
     "text": [
      "Clientes: (500, 7)\n",
      "Transações: (22688, 4)\n",
      "Campanhas: (1260, 4)\n"
     ]
    },
    {
     "data": {
      "text/html": [
       "<div>\n",
       "<style scoped>\n",
       "    .dataframe tbody tr th:only-of-type {\n",
       "        vertical-align: middle;\n",
       "    }\n",
       "\n",
       "    .dataframe tbody tr th {\n",
       "        vertical-align: top;\n",
       "    }\n",
       "\n",
       "    .dataframe thead th {\n",
       "        text-align: right;\n",
       "    }\n",
       "</style>\n",
       "<table border=\"1\" class=\"dataframe\">\n",
       "  <thead>\n",
       "    <tr style=\"text-align: right;\">\n",
       "      <th></th>\n",
       "      <th>cliente_id</th>\n",
       "      <th>nome</th>\n",
       "      <th>idade</th>\n",
       "      <th>renda_mensal</th>\n",
       "      <th>data_entrada</th>\n",
       "      <th>canal_entrada</th>\n",
       "      <th>regiao</th>\n",
       "    </tr>\n",
       "  </thead>\n",
       "  <tbody>\n",
       "    <tr>\n",
       "      <th>0</th>\n",
       "      <td>1</td>\n",
       "      <td>Ana Luiza Carvalho</td>\n",
       "      <td>58</td>\n",
       "      <td>3002.97</td>\n",
       "      <td>2022-06-27</td>\n",
       "      <td>indicação</td>\n",
       "      <td>Sul</td>\n",
       "    </tr>\n",
       "    <tr>\n",
       "      <th>1</th>\n",
       "      <td>2</td>\n",
       "      <td>Manuela Pinto</td>\n",
       "      <td>32</td>\n",
       "      <td>3383.76</td>\n",
       "      <td>2022-10-16</td>\n",
       "      <td>orgânico</td>\n",
       "      <td>Norte</td>\n",
       "    </tr>\n",
       "    <tr>\n",
       "      <th>2</th>\n",
       "      <td>3</td>\n",
       "      <td>Paulo Ferreira</td>\n",
       "      <td>23</td>\n",
       "      <td>9471.65</td>\n",
       "      <td>2022-11-29</td>\n",
       "      <td>orgânico</td>\n",
       "      <td>Sudeste</td>\n",
       "    </tr>\n",
       "    <tr>\n",
       "      <th>3</th>\n",
       "      <td>4</td>\n",
       "      <td>João Lucas Carvalho</td>\n",
       "      <td>23</td>\n",
       "      <td>4451.61</td>\n",
       "      <td>2023-04-10</td>\n",
       "      <td>orgânico</td>\n",
       "      <td>Norte</td>\n",
       "    </tr>\n",
       "    <tr>\n",
       "      <th>4</th>\n",
       "      <td>5</td>\n",
       "      <td>Bárbara Costa</td>\n",
       "      <td>30</td>\n",
       "      <td>11166.26</td>\n",
       "      <td>2022-06-27</td>\n",
       "      <td>social</td>\n",
       "      <td>Sul</td>\n",
       "    </tr>\n",
       "  </tbody>\n",
       "</table>\n",
       "</div>"
      ],
      "text/plain": [
       "   cliente_id                 nome  idade  renda_mensal data_entrada  \\\n",
       "0           1   Ana Luiza Carvalho     58       3002.97   2022-06-27   \n",
       "1           2        Manuela Pinto     32       3383.76   2022-10-16   \n",
       "2           3       Paulo Ferreira     23       9471.65   2022-11-29   \n",
       "3           4  João Lucas Carvalho     23       4451.61   2023-04-10   \n",
       "4           5        Bárbara Costa     30      11166.26   2022-06-27   \n",
       "\n",
       "  canal_entrada   regiao  \n",
       "0     indicação      Sul  \n",
       "1      orgânico    Norte  \n",
       "2      orgânico  Sudeste  \n",
       "3      orgânico    Norte  \n",
       "4        social      Sul  "
      ]
     },
     "execution_count": 7,
     "metadata": {},
     "output_type": "execute_result"
    }
   ],
   "source": [
    "print('Clientes:', clientes.shape)\n",
    "print('Transações:', transacoes.shape)\n",
    "print('Campanhas:', campanhas.shape)\n",
    "\n",
    "clientes.head()"
   ]
  },
  {
   "cell_type": "markdown",
   "id": "6008167d",
   "metadata": {},
   "source": [
    "## Customer demographics"
   ]
  },
  {
   "cell_type": "code",
   "execution_count": 8,
   "id": "358b923e",
   "metadata": {},
   "outputs": [
    {
     "data": {
      "image/png": "[encoded data removed]",
      "text/plain": [
       "<Figure size 1400x500 with 2 Axes>"
      ]
     },
     "metadata": {},
     "output_type": "display_data"
    }
   ],
   "source": [
    "fig, axes = plt.subplots(1, 2, figsize=(14, 5))\n",
    "sns.histplot(clientes['idade'], bins=20, kde=True, ax=axes[0], color='skyblue')\n",
    "axes[0].set_title('Age Distribution')\n",
    "sns.histplot(clientes['renda_mensal'], bins=20, kde=True, ax=axes[1], color='lightgreen')\n",
    "axes[1].set_title('Monthly Income Distribution')\n",
    "plt.tight_layout()\n",
    "plt.show()"
   ]
  },
  {
   "cell_type": "markdown",
   "id": "af9818c1",
   "metadata": {},
   "source": [
    "##  RFM Metrics"
   ]
  },
  {
   "cell_type": "code",
   "execution_count": 9,
   "id": "7e8bf58d",
   "metadata": {},
   "outputs": [
    {
     "data": {
      "text/html": [
       "<div>\n",
       "<style scoped>\n",
       "    .dataframe tbody tr th:only-of-type {\n",
       "        vertical-align: middle;\n",
       "    }\n",
       "\n",
       "    .dataframe tbody tr th {\n",
       "        vertical-align: top;\n",
       "    }\n",
       "\n",
       "    .dataframe thead th {\n",
       "        text-align: right;\n",
       "    }\n",
       "</style>\n",
       "<table border=\"1\" class=\"dataframe\">\n",
       "  <thead>\n",
       "    <tr style=\"text-align: right;\">\n",
       "      <th></th>\n",
       "      <th>cliente_id</th>\n",
       "      <th>recency</th>\n",
       "      <th>frequency</th>\n",
       "      <th>monetary</th>\n",
       "    </tr>\n",
       "  </thead>\n",
       "  <tbody>\n",
       "    <tr>\n",
       "      <th>0</th>\n",
       "      <td>1</td>\n",
       "      <td>22</td>\n",
       "      <td>53</td>\n",
       "      <td>7457.30</td>\n",
       "    </tr>\n",
       "    <tr>\n",
       "      <th>1</th>\n",
       "      <td>2</td>\n",
       "      <td>15</td>\n",
       "      <td>47</td>\n",
       "      <td>6746.84</td>\n",
       "    </tr>\n",
       "    <tr>\n",
       "      <th>2</th>\n",
       "      <td>3</td>\n",
       "      <td>18</td>\n",
       "      <td>44</td>\n",
       "      <td>5688.57</td>\n",
       "    </tr>\n",
       "    <tr>\n",
       "      <th>3</th>\n",
       "      <td>4</td>\n",
       "      <td>27</td>\n",
       "      <td>23</td>\n",
       "      <td>3310.97</td>\n",
       "    </tr>\n",
       "    <tr>\n",
       "      <th>4</th>\n",
       "      <td>5</td>\n",
       "      <td>8</td>\n",
       "      <td>63</td>\n",
       "      <td>8740.16</td>\n",
       "    </tr>\n",
       "  </tbody>\n",
       "</table>\n",
       "</div>"
      ],
      "text/plain": [
       "   cliente_id  recency  frequency  monetary\n",
       "0           1       22         53   7457.30\n",
       "1           2       15         47   6746.84\n",
       "2           3       18         44   5688.57\n",
       "3           4       27         23   3310.97\n",
       "4           5        8         63   8740.16"
      ]
     },
     "execution_count": 9,
     "metadata": {},
     "output_type": "execute_result"
    }
   ],
   "source": [
    "# Calculate Recency\n",
    "snapshot_date = transacoes['data'].max() + pd.Timedelta(days=1)\n",
    "rfm = transacoes.groupby('cliente_id').agg({\n",
    "    'data': lambda x: (snapshot_date - x.max()).days,\n",
    "    'cliente_id': 'count',\n",
    "    'valor': 'sum'\n",
    "})\n",
    "rfm.columns = ['recency', 'frequency', 'monetary']\n",
    "rfm = rfm.reset_index()\n",
    "rfm.head()"
   ]
  },
  {
   "cell_type": "markdown",
   "id": "00c8abeb",
   "metadata": {},
   "source": [
    "##  Churn Detection (Simple Rule-based)"
   ]
  },
  {
   "cell_type": "code",
   "execution_count": 10,
   "id": "9db59e1c",
   "metadata": {},
   "outputs": [
    {
     "data": {
      "text/plain": [
       "churned\n",
       "False    1.0\n",
       "Name: proportion, dtype: float64"
      ]
     },
     "execution_count": 10,
     "metadata": {},
     "output_type": "execute_result"
    }
   ],
   "source": [
    "# A customer is considered churned if last transaction was > 90 days ago\n",
    "rfm['churned'] = rfm['recency'] > 90\n",
    "rfm['churned'].value_counts(normalize=True)"
   ]
  }
 ],
 "metadata": {
  "kernelspec": {
   "display_name": ".venv",
   "language": "python",
   "name": "python3"
  },
  "language_info": {
   "codemirror_mode": {
    "name": "ipython",
    "version": 3
   },
   "file_extension": ".py",
   "mimetype": "text/x-python",
   "name": "python",
   "nbconvert_exporter": "python",
   "pygments_lexer": "ipython3",
   "version": "3.13.6"
  }
 },
 "nbformat": 4,
 "nbformat_minor": 5
}
