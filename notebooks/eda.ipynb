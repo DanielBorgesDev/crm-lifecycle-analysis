{
 "cells": [
  {
   "cell_type": "markdown",
   "id": "c3731862",
   "metadata": {},
   "source": [
    "# Exploratory Data Analysis — CRM Lifecycle Project"
   ]
  },
  {
   "cell_type": "code",
   "execution_count": 3,
   "id": "2dc31118",
   "metadata": {},
   "outputs": [
    {
     "ename": "ModuleNotFoundError",
     "evalue": "No module named 'pandas'",
     "output_type": "error",
     "traceback": [
      "\u001b[31m---------------------------------------------------------------------------\u001b[39m",
      "\u001b[31mModuleNotFoundError\u001b[39m                       Traceback (most recent call last)",
      "\u001b[36mCell\u001b[39m\u001b[36m \u001b[39m\u001b[32mIn[3]\u001b[39m\u001b[32m, line 1\u001b[39m\n\u001b[32m----> \u001b[39m\u001b[32m1\u001b[39m \u001b[38;5;28;01mimport\u001b[39;00m\u001b[38;5;250m \u001b[39m\u001b[34;01mpandas\u001b[39;00m\u001b[38;5;250m \u001b[39m\u001b[38;5;28;01mas\u001b[39;00m\u001b[38;5;250m \u001b[39m\u001b[34;01mpd\u001b[39;00m\n\u001b[32m      2\u001b[39m \u001b[38;5;28;01mimport\u001b[39;00m\u001b[38;5;250m \u001b[39m\u001b[34;01mmatplotlib\u001b[39;00m\u001b[34;01m.\u001b[39;00m\u001b[34;01mpyplot\u001b[39;00m\u001b[38;5;250m \u001b[39m\u001b[38;5;28;01mas\u001b[39;00m\u001b[38;5;250m \u001b[39m\u001b[34;01mplt\u001b[39;00m\n\u001b[32m      3\u001b[39m \u001b[38;5;28;01mimport\u001b[39;00m\u001b[38;5;250m \u001b[39m\u001b[34;01mseaborn\u001b[39;00m\u001b[38;5;250m \u001b[39m\u001b[38;5;28;01mas\u001b[39;00m\u001b[38;5;250m \u001b[39m\u001b[34;01msns\u001b[39;00m\n",
      "\u001b[31mModuleNotFoundError\u001b[39m: No module named 'pandas'"
     ]
    }
   ],
   "source": [
    "import pandas as pd\n",
    "import matplotlib.pyplot as plt\n",
    "import seaborn as sns\n",
    "import numpy as np\n",
    "sns.set(style='whitegrid')"
   ]
  },
  {
   "cell_type": "markdown",
   "id": "0b92f6de",
   "metadata": {},
   "source": [
    "## Load the datasets"
   ]
  },
  {
   "cell_type": "code",
   "execution_count": null,
   "id": "1f8a3421",
   "metadata": {},
   "outputs": [],
   "source": [
    "clientes = pd.read_csv('../data/clientes.csv')\n",
    "transacoes = pd.read_csv('../data/transacoes.csv')\n",
    "campanhas = pd.read_csv('../data/campanhas.csv')\n",
    "\n",
    "# Convert date columns\n",
    "clientes['data_entrada'] = pd.to_datetime(clientes['data_entrada'])\n",
    "transacoes['data'] = pd.to_datetime(transacoes['data'])\n",
    "campanhas['data_envio'] = pd.to_datetime(campanhas['data_envio'])"
   ]
  },
  {
   "cell_type": "markdown",
   "id": "f16bed4c",
   "metadata": {},
   "source": [
    "##  Basic overview"
   ]
  },
  {
   "cell_type": "code",
   "execution_count": null,
   "id": "627592b3",
   "metadata": {},
   "outputs": [],
   "source": [
    "print('Clientes:', clientes.shape)\n",
    "print('Transações:', transacoes.shape)\n",
    "print('Campanhas:', campanhas.shape)\n",
    "\n",
    "clientes.head()"
   ]
  },
  {
   "cell_type": "markdown",
   "id": "6008167d",
   "metadata": {},
   "source": [
    "## Customer demographics"
   ]
  },
  {
   "cell_type": "code",
   "execution_count": null,
   "id": "358b923e",
   "metadata": {},
   "outputs": [],
   "source": [
    "fig, axes = plt.subplots(1, 2, figsize=(14, 5))\n",
    "sns.histplot(clientes['idade'], bins=20, kde=True, ax=axes[0], color='skyblue')\n",
    "axes[0].set_title('Age Distribution')\n",
    "sns.histplot(clientes['renda_mensal'], bins=20, kde=True, ax=axes[1], color='lightgreen')\n",
    "axes[1].set_title('Monthly Income Distribution')\n",
    "plt.tight_layout()\n",
    "plt.show()"
   ]
  },
  {
   "cell_type": "markdown",
   "id": "af9818c1",
   "metadata": {},
   "source": [
    "##  RFM Metrics"
   ]
  },
  {
   "cell_type": "code",
   "execution_count": 4,
   "id": "7e8bf58d",
   "metadata": {},
   "outputs": [
    {
     "ename": "NameError",
     "evalue": "name 'transacoes' is not defined",
     "output_type": "error",
     "traceback": [
      "\u001b[31m---------------------------------------------------------------------------\u001b[39m",
      "\u001b[31mNameError\u001b[39m                                 Traceback (most recent call last)",
      "\u001b[36mCell\u001b[39m\u001b[36m \u001b[39m\u001b[32mIn[4]\u001b[39m\u001b[32m, line 2\u001b[39m\n\u001b[32m      1\u001b[39m \u001b[38;5;66;03m# Calculate Recency\u001b[39;00m\n\u001b[32m----> \u001b[39m\u001b[32m2\u001b[39m snapshot_date = \u001b[43mtransacoes\u001b[49m[\u001b[33m'\u001b[39m\u001b[33mdata\u001b[39m\u001b[33m'\u001b[39m].max() + pd.Timedelta(days=\u001b[32m1\u001b[39m)\n\u001b[32m      3\u001b[39m rfm = transacoes.groupby(\u001b[33m'\u001b[39m\u001b[33mcliente_id\u001b[39m\u001b[33m'\u001b[39m).agg({\n\u001b[32m      4\u001b[39m     \u001b[33m'\u001b[39m\u001b[33mdata\u001b[39m\u001b[33m'\u001b[39m: \u001b[38;5;28;01mlambda\u001b[39;00m x: (snapshot_date - x.max()).days,\n\u001b[32m      5\u001b[39m     \u001b[33m'\u001b[39m\u001b[33mcliente_id\u001b[39m\u001b[33m'\u001b[39m: \u001b[33m'\u001b[39m\u001b[33mcount\u001b[39m\u001b[33m'\u001b[39m,\n\u001b[32m      6\u001b[39m     \u001b[33m'\u001b[39m\u001b[33mvalor\u001b[39m\u001b[33m'\u001b[39m: \u001b[33m'\u001b[39m\u001b[33msum\u001b[39m\u001b[33m'\u001b[39m\n\u001b[32m      7\u001b[39m })\n\u001b[32m      8\u001b[39m rfm.columns = [\u001b[33m'\u001b[39m\u001b[33mrecency\u001b[39m\u001b[33m'\u001b[39m, \u001b[33m'\u001b[39m\u001b[33mfrequency\u001b[39m\u001b[33m'\u001b[39m, \u001b[33m'\u001b[39m\u001b[33mmonetary\u001b[39m\u001b[33m'\u001b[39m]\n",
      "\u001b[31mNameError\u001b[39m: name 'transacoes' is not defined"
     ]
    }
   ],
   "source": [
    "# Calculate Recency\n",
    "snapshot_date = transacoes['data'].max() + pd.Timedelta(days=1)\n",
    "rfm = transacoes.groupby('cliente_id').agg({\n",
    "    'data': lambda x: (snapshot_date - x.max()).days,\n",
    "    'cliente_id': 'count',\n",
    "    'valor': 'sum'\n",
    "})\n",
    "rfm.columns = ['recency', 'frequency', 'monetary']\n",
    "rfm = rfm.reset_index()\n",
    "rfm.head()"
   ]
  },
  {
   "cell_type": "markdown",
   "id": "00c8abeb",
   "metadata": {},
   "source": [
    "##  Churn Detection (Simple Rule-based)"
   ]
  },
  {
   "cell_type": "code",
   "execution_count": null,
   "id": "9db59e1c",
   "metadata": {},
   "outputs": [],
   "source": [
    "# A customer is considered churned if last transaction was > 90 days ago\n",
    "rfm['churned'] = rfm['recency'] > 90\n",
    "rfm['churned'].value_counts(normalize=True)"
   ]
  }
 ],
 "metadata": {
  "kernelspec": {
   "display_name": ".venv",
   "language": "python",
   "name": "python3"
  },
  "language_info": {
   "codemirror_mode": {
    "name": "ipython",
    "version": 3
   },
   "file_extension": ".py",
   "mimetype": "text/x-python",
   "name": "python",
   "nbconvert_exporter": "python",
   "pygments_lexer": "ipython3",
   "version": "3.13.6"
  }
 },
 "nbformat": 4,
 "nbformat_minor": 5
}
